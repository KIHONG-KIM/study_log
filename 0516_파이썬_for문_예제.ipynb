{
  "nbformat": 4,
  "nbformat_minor": 0,
  "metadata": {
    "colab": {
      "provenance": [],
      "authorship_tag": "ABX9TyM2u9tdEsj/jC+H0P9y+s1S",
      "include_colab_link": true
    },
    "kernelspec": {
      "name": "python3",
      "display_name": "Python 3"
    },
    "language_info": {
      "name": "python"
    }
  },
  "cells": [
    {
      "cell_type": "markdown",
      "metadata": {
        "id": "view-in-github",
        "colab_type": "text"
      },
      "source": [
        "<a href=\"https://colab.research.google.com/github/KIHONG-KIM/study_log/blob/main/0516_%ED%8C%8C%EC%9D%B4%EC%8D%AC_for%EB%AC%B8_%EC%98%88%EC%A0%9C.ipynb\" target=\"_parent\"><img src=\"https://colab.research.google.com/assets/colab-badge.svg\" alt=\"Open In Colab\"/></a>"
      ]
    },
    {
      "cell_type": "code",
      "source": [
        "for i in range (10):\n",
        "    print(i)\n",
        "# range(start, stop, step)\n",
        "# 1개만 쓸 경우, Default 값은 stop\n",
        "# 2개를 쓸 경우 start, and stop (0,10)\n",
        "# 3개를 쓸 경우 (0,10,2) 단계별로 진행된다.\n"
      ],
      "metadata": {
        "colab": {
          "base_uri": "https://localhost:8080/"
        },
        "id": "HIkBAXLMPAp-",
        "outputId": "09cdb32b-625a-4562-904b-658378993ef2"
      },
      "execution_count": 58,
      "outputs": [
        {
          "output_type": "stream",
          "name": "stdout",
          "text": [
            "0\n",
            "1\n",
            "2\n",
            "3\n",
            "4\n",
            "5\n",
            "6\n",
            "7\n",
            "8\n",
            "9\n"
          ]
        }
      ]
    },
    {
      "cell_type": "code",
      "source": [
        "for i in range (11,0,-2):\n",
        "    print(i)"
      ],
      "metadata": {
        "colab": {
          "base_uri": "https://localhost:8080/"
        },
        "id": "NfoPkq3fQAtN",
        "outputId": "1cab8d85-0a49-47f7-928d-6b8e955e721f"
      },
      "execution_count": 65,
      "outputs": [
        {
          "output_type": "stream",
          "name": "stdout",
          "text": [
            "11\n",
            "9\n",
            "7\n",
            "5\n",
            "3\n",
            "1\n"
          ]
        }
      ]
    },
    {
      "cell_type": "code",
      "source": [
        "list = [1,2,3,4,5]\n",
        "sum = 0\n",
        "for i in list:\n",
        "    sum += i\n",
        "    print(f\"i: {i}, sum:{sum}\")\n",
        "\n",
        "print(f\"총합은 {sum}\")"
      ],
      "metadata": {
        "colab": {
          "base_uri": "https://localhost:8080/"
        },
        "id": "5rmznuc3PeFi",
        "outputId": "500c835f-e799-4592-9763-5f0c6a8704e3"
      },
      "execution_count": 71,
      "outputs": [
        {
          "output_type": "stream",
          "name": "stdout",
          "text": [
            "i: 1, sum:1\n",
            "i: 2, sum:3\n",
            "i: 3, sum:6\n",
            "i: 4, sum:10\n",
            "i: 5, sum:15\n",
            "총합은 15\n"
          ]
        }
      ]
    },
    {
      "cell_type": "code",
      "source": [
        "fruits = ['apple', 'banana', 'cherry', 'banana', 'apple']\n",
        "target = 'banana'\n",
        "\n",
        "for i in range(len(fruits)):\n",
        "    print(i)\n",
        "    if fruits[i] == target:\n",
        "        print(f'{target} is at index {i}')"
      ],
      "metadata": {
        "colab": {
          "base_uri": "https://localhost:8080/"
        },
        "id": "aqlvRuVKRDtG",
        "outputId": "b7b99d5b-c3b8-49f3-f9dd-fb0649c8df41"
      },
      "execution_count": 74,
      "outputs": [
        {
          "output_type": "stream",
          "name": "stdout",
          "text": [
            "0\n",
            "1\n",
            "banana is at index 1\n",
            "2\n",
            "3\n",
            "banana is at index 3\n",
            "4\n"
          ]
        }
      ]
    },
    {
      "cell_type": "code",
      "source": [
        "char = \"안녕하세요, 세상\"\n",
        "# 문자열 출력\n",
        "for i in char:\n",
        "    print(i)"
      ],
      "metadata": {
        "colab": {
          "base_uri": "https://localhost:8080/"
        },
        "id": "g_SnaTqURVVT",
        "outputId": "fafdc0d9-c504-4e34-f4cf-932b57082ca8"
      },
      "execution_count": 76,
      "outputs": [
        {
          "output_type": "stream",
          "name": "stdout",
          "text": [
            "안\n",
            "녕\n",
            "하\n",
            "세\n",
            "요\n",
            ",\n",
            " \n",
            "세\n",
            "상\n"
          ]
        }
      ]
    },
    {
      "cell_type": "code",
      "source": [
        "# 함수 split()은 문자열을 특정한 문자로 잘라서 리스트로 만듭니다.\n",
        "text = \"Hello, world!\"\n",
        "words = text.split()\n",
        "print(words) # 결과 ['Hello,', 'world!']\n",
        "\n",
        "for word in words:\n",
        "    print(word)\n",
        "    # 쪼갠 단어들 활용 가능"
      ],
      "metadata": {
        "colab": {
          "base_uri": "https://localhost:8080/"
        },
        "id": "MmQpkPcORwEG",
        "outputId": "d9999b74-1fbe-4fe3-b917-dfea2d6da070"
      },
      "execution_count": 79,
      "outputs": [
        {
          "output_type": "stream",
          "name": "stdout",
          "text": [
            "Hello,\n",
            "world!\n",
            "['Hello,', 'world!']\n"
          ]
        }
      ]
    },
    {
      "cell_type": "code",
      "source": [
        "text = \"Hello, world!\"\n",
        "for i in range(len(text)):\n",
        "    print(f\"{i}번째 문자열은 {text[i]}을 나타냅니다.\")"
      ],
      "metadata": {
        "colab": {
          "base_uri": "https://localhost:8080/"
        },
        "id": "4pmnKDDKSSQY",
        "outputId": "c5c8da2e-10ec-4b24-b96b-e7068c79db27"
      },
      "execution_count": 84,
      "outputs": [
        {
          "output_type": "stream",
          "name": "stdout",
          "text": [
            "0번째 문자열은 H을 나타냅니다.\n",
            "1번째 문자열은 e을 나타냅니다.\n",
            "2번째 문자열은 l을 나타냅니다.\n",
            "3번째 문자열은 l을 나타냅니다.\n",
            "4번째 문자열은 o을 나타냅니다.\n",
            "5번째 문자열은 ,을 나타냅니다.\n",
            "6번째 문자열은  을 나타냅니다.\n",
            "7번째 문자열은 w을 나타냅니다.\n",
            "8번째 문자열은 o을 나타냅니다.\n",
            "9번째 문자열은 r을 나타냅니다.\n",
            "10번째 문자열은 l을 나타냅니다.\n",
            "11번째 문자열은 d을 나타냅니다.\n",
            "12번째 문자열은 !을 나타냅니다.\n"
          ]
        }
      ]
    },
    {
      "cell_type": "code",
      "source": [
        "i = j = 1\n",
        "while i < 10:\n",
        "    while j < 10:\n",
        "        print(f\" {i}단, {i} * {j} = {i*j}\")\n",
        "        j += 1\n",
        "    i = i + 1\n",
        "    j = 1"
      ],
      "metadata": {
        "colab": {
          "base_uri": "https://localhost:8080/"
        },
        "id": "aRPLvBo0TiQk",
        "outputId": "80108cd1-581b-48b9-c2e8-463dceffd30c"
      },
      "execution_count": 103,
      "outputs": [
        {
          "output_type": "stream",
          "name": "stdout",
          "text": [
            " 1단, 1 * 1 = 1\n",
            " 1단, 1 * 2 = 2\n",
            " 1단, 1 * 3 = 3\n",
            " 1단, 1 * 4 = 4\n",
            " 1단, 1 * 5 = 5\n",
            " 1단, 1 * 6 = 6\n",
            " 1단, 1 * 7 = 7\n",
            " 1단, 1 * 8 = 8\n",
            " 1단, 1 * 9 = 9\n",
            " 2단, 2 * 1 = 2\n",
            " 2단, 2 * 2 = 4\n",
            " 2단, 2 * 3 = 6\n",
            " 2단, 2 * 4 = 8\n",
            " 2단, 2 * 5 = 10\n",
            " 2단, 2 * 6 = 12\n",
            " 2단, 2 * 7 = 14\n",
            " 2단, 2 * 8 = 16\n",
            " 2단, 2 * 9 = 18\n",
            " 3단, 3 * 1 = 3\n",
            " 3단, 3 * 2 = 6\n",
            " 3단, 3 * 3 = 9\n",
            " 3단, 3 * 4 = 12\n",
            " 3단, 3 * 5 = 15\n",
            " 3단, 3 * 6 = 18\n",
            " 3단, 3 * 7 = 21\n",
            " 3단, 3 * 8 = 24\n",
            " 3단, 3 * 9 = 27\n",
            " 4단, 4 * 1 = 4\n",
            " 4단, 4 * 2 = 8\n",
            " 4단, 4 * 3 = 12\n",
            " 4단, 4 * 4 = 16\n",
            " 4단, 4 * 5 = 20\n",
            " 4단, 4 * 6 = 24\n",
            " 4단, 4 * 7 = 28\n",
            " 4단, 4 * 8 = 32\n",
            " 4단, 4 * 9 = 36\n",
            " 5단, 5 * 1 = 5\n",
            " 5단, 5 * 2 = 10\n",
            " 5단, 5 * 3 = 15\n",
            " 5단, 5 * 4 = 20\n",
            " 5단, 5 * 5 = 25\n",
            " 5단, 5 * 6 = 30\n",
            " 5단, 5 * 7 = 35\n",
            " 5단, 5 * 8 = 40\n",
            " 5단, 5 * 9 = 45\n",
            " 6단, 6 * 1 = 6\n",
            " 6단, 6 * 2 = 12\n",
            " 6단, 6 * 3 = 18\n",
            " 6단, 6 * 4 = 24\n",
            " 6단, 6 * 5 = 30\n",
            " 6단, 6 * 6 = 36\n",
            " 6단, 6 * 7 = 42\n",
            " 6단, 6 * 8 = 48\n",
            " 6단, 6 * 9 = 54\n",
            " 7단, 7 * 1 = 7\n",
            " 7단, 7 * 2 = 14\n",
            " 7단, 7 * 3 = 21\n",
            " 7단, 7 * 4 = 28\n",
            " 7단, 7 * 5 = 35\n",
            " 7단, 7 * 6 = 42\n",
            " 7단, 7 * 7 = 49\n",
            " 7단, 7 * 8 = 56\n",
            " 7단, 7 * 9 = 63\n",
            " 8단, 8 * 1 = 8\n",
            " 8단, 8 * 2 = 16\n",
            " 8단, 8 * 3 = 24\n",
            " 8단, 8 * 4 = 32\n",
            " 8단, 8 * 5 = 40\n",
            " 8단, 8 * 6 = 48\n",
            " 8단, 8 * 7 = 56\n",
            " 8단, 8 * 8 = 64\n",
            " 8단, 8 * 9 = 72\n",
            " 9단, 9 * 1 = 9\n",
            " 9단, 9 * 2 = 18\n",
            " 9단, 9 * 3 = 27\n",
            " 9단, 9 * 4 = 36\n",
            " 9단, 9 * 5 = 45\n",
            " 9단, 9 * 6 = 54\n",
            " 9단, 9 * 7 = 63\n",
            " 9단, 9 * 8 = 72\n",
            " 9단, 9 * 9 = 81\n"
          ]
        }
      ]
    },
    {
      "cell_type": "code",
      "source": [],
      "metadata": {
        "id": "h20IpO8PV8ly"
      },
      "execution_count": null,
      "outputs": []
    }
  ]
}