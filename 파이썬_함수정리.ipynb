{
  "nbformat": 4,
  "nbformat_minor": 0,
  "metadata": {
    "colab": {
      "provenance": [],
      "authorship_tag": "ABX9TyMuoGQV/8fb9EjSgpP7lI0h",
      "include_colab_link": true
    },
    "kernelspec": {
      "name": "python3",
      "display_name": "Python 3"
    },
    "language_info": {
      "name": "python"
    }
  },
  "cells": [
    {
      "cell_type": "markdown",
      "metadata": {
        "id": "view-in-github",
        "colab_type": "text"
      },
      "source": [
        "<a href=\"https://colab.research.google.com/github/KIHONG-KIM/study_log/blob/main/%ED%8C%8C%EC%9D%B4%EC%8D%AC_%ED%95%A8%EC%88%98%EC%A0%95%EB%A6%AC.ipynb\" target=\"_parent\"><img src=\"https://colab.research.google.com/assets/colab-badge.svg\" alt=\"Open In Colab\"/></a>"
      ]
    },
    {
      "cell_type": "code",
      "execution_count": null,
      "metadata": {
        "id": "5Wh04DpwYXZY"
      },
      "outputs": [],
      "source": [
        "\n",
        "1. `print()` - Prints the given object(s) to the standard output device.\n",
        "2. `len()` - Returns the length of an object.\n",
        "3. `range()` - Creates a sequence of numbers.\n",
        "4. `type()` - Returns the type of an object.\n",
        "5. `input()` - Reads a line of text from the user and returns it as a string.\n",
        "6. `str()` - Converts an object to a string.\n",
        "7. `int()` - Converts a string or other object to an integer.\n",
        "8. `float()` - Converts a string or other object to a float.\n",
        "9. `list()` - Creates a list from an iterable.\n",
        "10. `tuple()` - Creates a tuple from an iterable.\n",
        "11. `set()` - Creates a set from an iterable.\n",
        "12. `dict()` - Creates a dictionary from an iterable.\n",
        "13. `for` - Iterates over an iterable.\n",
        "14. `while` - Executes a block of code while a condition is true.\n",
        "15. `if` - Executes a block of code if a condition is true.\n",
        "16. `else` - Executes a block of code if a condition is false.\n",
        "17. `elif` - Executes a block of code if a condition is true, but only if all previous conditions were false.\n",
        "18. `break` - Exits a loop.\n",
        "19. `continue` - Skips the current iteration of a loop.\n",
        "20. `pass` - Does nothing."
      ]
    }
  ]
}
